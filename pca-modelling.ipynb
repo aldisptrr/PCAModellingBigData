{
 "cells": [
  {
   "cell_type": "code",
   "execution_count": 1,
   "id": "0065face",
   "metadata": {
    "_cell_guid": "b1076dfc-b9ad-4769-8c92-a6c4dae69d19",
    "_uuid": "8f2839f25d086af736a60e9eeb907d3b93b6e0e5",
    "execution": {
     "iopub.execute_input": "2022-07-01T16:55:45.251300Z",
     "iopub.status.busy": "2022-07-01T16:55:45.250491Z",
     "iopub.status.idle": "2022-07-01T16:55:45.273950Z",
     "shell.execute_reply": "2022-07-01T16:55:45.273298Z"
    },
    "papermill": {
     "duration": 0.039813,
     "end_time": "2022-07-01T16:55:45.276414",
     "exception": false,
     "start_time": "2022-07-01T16:55:45.236601",
     "status": "completed"
    },
    "tags": []
   },
   "outputs": [
    {
     "name": "stdout",
     "output_type": "stream",
     "text": [
      "/kaggle/input/resultfb/resultFB.csv\n",
      "/kaggle/input/fandbdataset/DataFB.csv\n"
     ]
    }
   ],
   "source": [
    "# This Python 3 environment comes with many helpful analytics libraries installed\n",
    "# It is defined by the kaggle/python Docker image: https://github.com/kaggle/docker-python\n",
    "# For example, here's several helpful packages to load\n",
    "\n",
    "import numpy as np # linear algebra\n",
    "import pandas as pd # data processing, CSV file I/O (e.g. pd.read_csv)\n",
    "\n",
    "# Input data files are available in the read-only \"../input/\" directory\n",
    "# For example, running this (by clicking run or pressing Shift+Enter) will list all files under the input directory\n",
    "\n",
    "import os\n",
    "for dirname, _, filenames in os.walk('/kaggle/input'):\n",
    "    for filename in filenames:\n",
    "        print(os.path.join(dirname, filename))\n",
    "\n",
    "# You can write up to 20GB to the current directory (/kaggle/working/) that gets preserved as output when you create a version using \"Save & Run All\" \n",
    "# You can also write temporary files to /kaggle/temp/, but they won't be saved outside of the current session"
   ]
  },
  {
   "cell_type": "code",
   "execution_count": 2,
   "id": "8e4a27fa",
   "metadata": {
    "execution": {
     "iopub.execute_input": "2022-07-01T16:55:45.297011Z",
     "iopub.status.busy": "2022-07-01T16:55:45.296478Z",
     "iopub.status.idle": "2022-07-01T16:55:46.639899Z",
     "shell.execute_reply": "2022-07-01T16:55:46.639184Z"
    },
    "papermill": {
     "duration": 1.356622,
     "end_time": "2022-07-01T16:55:46.642164",
     "exception": false,
     "start_time": "2022-07-01T16:55:45.285542",
     "status": "completed"
    },
    "tags": []
   },
   "outputs": [],
   "source": [
    "import pandas as pd\n",
    "import numpy as np\n",
    "from matplotlib import pyplot as plt\n",
    "from sklearn.decomposition import PCA\n",
    "from sklearn.preprocessing import StandardScaler\n",
    "from sklearn.datasets import load_iris\n",
    "import seaborn as sns\n",
    "from matplotlib.colors import ListedColormap\n",
    "%matplotlib inline\n",
    "\n",
    "from scipy import stats\n",
    "from sklearn.decomposition import PCA\n",
    "from sklearn.preprocessing import StandardScaler"
   ]
  },
  {
   "cell_type": "code",
   "execution_count": 3,
   "id": "c264d74a",
   "metadata": {
    "execution": {
     "iopub.execute_input": "2022-07-01T16:55:46.659835Z",
     "iopub.status.busy": "2022-07-01T16:55:46.659315Z",
     "iopub.status.idle": "2022-07-01T16:55:46.674932Z",
     "shell.execute_reply": "2022-07-01T16:55:46.674192Z"
    },
    "papermill": {
     "duration": 0.026896,
     "end_time": "2022-07-01T16:55:46.677110",
     "exception": false,
     "start_time": "2022-07-01T16:55:46.650214",
     "status": "completed"
    },
    "tags": []
   },
   "outputs": [],
   "source": [
    "iris = load_iris()\n",
    "\n",
    "X = pd.DataFrame(iris.data, columns = iris.feature_names)\n",
    "y = pd.Categorical.from_codes(iris.target, iris.target_names)"
   ]
  },
  {
   "cell_type": "code",
   "execution_count": 4,
   "id": "2f2c0034",
   "metadata": {
    "execution": {
     "iopub.execute_input": "2022-07-01T16:55:46.695016Z",
     "iopub.status.busy": "2022-07-01T16:55:46.694466Z",
     "iopub.status.idle": "2022-07-01T16:55:46.712009Z",
     "shell.execute_reply": "2022-07-01T16:55:46.711302Z"
    },
    "papermill": {
     "duration": 0.028747,
     "end_time": "2022-07-01T16:55:46.713833",
     "exception": false,
     "start_time": "2022-07-01T16:55:46.685086",
     "status": "completed"
    },
    "tags": []
   },
   "outputs": [
    {
     "data": {
      "text/html": [
       "<div>\n",
       "<style scoped>\n",
       "    .dataframe tbody tr th:only-of-type {\n",
       "        vertical-align: middle;\n",
       "    }\n",
       "\n",
       "    .dataframe tbody tr th {\n",
       "        vertical-align: top;\n",
       "    }\n",
       "\n",
       "    .dataframe thead th {\n",
       "        text-align: right;\n",
       "    }\n",
       "</style>\n",
       "<table border=\"1\" class=\"dataframe\">\n",
       "  <thead>\n",
       "    <tr style=\"text-align: right;\">\n",
       "      <th></th>\n",
       "      <th>sepal length (cm)</th>\n",
       "      <th>sepal width (cm)</th>\n",
       "      <th>petal length (cm)</th>\n",
       "      <th>petal width (cm)</th>\n",
       "    </tr>\n",
       "  </thead>\n",
       "  <tbody>\n",
       "    <tr>\n",
       "      <th>0</th>\n",
       "      <td>5.1</td>\n",
       "      <td>3.5</td>\n",
       "      <td>1.4</td>\n",
       "      <td>0.2</td>\n",
       "    </tr>\n",
       "    <tr>\n",
       "      <th>1</th>\n",
       "      <td>4.9</td>\n",
       "      <td>3.0</td>\n",
       "      <td>1.4</td>\n",
       "      <td>0.2</td>\n",
       "    </tr>\n",
       "    <tr>\n",
       "      <th>2</th>\n",
       "      <td>4.7</td>\n",
       "      <td>3.2</td>\n",
       "      <td>1.3</td>\n",
       "      <td>0.2</td>\n",
       "    </tr>\n",
       "    <tr>\n",
       "      <th>3</th>\n",
       "      <td>4.6</td>\n",
       "      <td>3.1</td>\n",
       "      <td>1.5</td>\n",
       "      <td>0.2</td>\n",
       "    </tr>\n",
       "    <tr>\n",
       "      <th>4</th>\n",
       "      <td>5.0</td>\n",
       "      <td>3.6</td>\n",
       "      <td>1.4</td>\n",
       "      <td>0.2</td>\n",
       "    </tr>\n",
       "  </tbody>\n",
       "</table>\n",
       "</div>"
      ],
      "text/plain": [
       "   sepal length (cm)  sepal width (cm)  petal length (cm)  petal width (cm)\n",
       "0                5.1               3.5                1.4               0.2\n",
       "1                4.9               3.0                1.4               0.2\n",
       "2                4.7               3.2                1.3               0.2\n",
       "3                4.6               3.1                1.5               0.2\n",
       "4                5.0               3.6                1.4               0.2"
      ]
     },
     "execution_count": 4,
     "metadata": {},
     "output_type": "execute_result"
    }
   ],
   "source": [
    "X.head()"
   ]
  },
  {
   "cell_type": "code",
   "execution_count": 5,
   "id": "42eac221",
   "metadata": {
    "execution": {
     "iopub.execute_input": "2022-07-01T16:55:46.732224Z",
     "iopub.status.busy": "2022-07-01T16:55:46.731604Z",
     "iopub.status.idle": "2022-07-01T16:55:46.738662Z",
     "shell.execute_reply": "2022-07-01T16:55:46.738020Z"
    },
    "papermill": {
     "duration": 0.018649,
     "end_time": "2022-07-01T16:55:46.740576",
     "exception": false,
     "start_time": "2022-07-01T16:55:46.721927",
     "status": "completed"
    },
    "tags": []
   },
   "outputs": [],
   "source": [
    "scaler = StandardScaler()\n",
    "\n",
    "X = scaler.fit_transform(X)"
   ]
  },
  {
   "cell_type": "code",
   "execution_count": 6,
   "id": "9534e6f4",
   "metadata": {
    "execution": {
     "iopub.execute_input": "2022-07-01T16:55:46.758852Z",
     "iopub.status.busy": "2022-07-01T16:55:46.758312Z",
     "iopub.status.idle": "2022-07-01T16:55:46.771385Z",
     "shell.execute_reply": "2022-07-01T16:55:46.770599Z"
    },
    "papermill": {
     "duration": 0.02465,
     "end_time": "2022-07-01T16:55:46.773617",
     "exception": false,
     "start_time": "2022-07-01T16:55:46.748967",
     "status": "completed"
    },
    "tags": []
   },
   "outputs": [
    {
     "data": {
      "text/plain": [
       "array([[-9.00681170e-01,  1.01900435e+00, -1.34022653e+00,\n",
       "        -1.31544430e+00],\n",
       "       [-1.14301691e+00, -1.31979479e-01, -1.34022653e+00,\n",
       "        -1.31544430e+00],\n",
       "       [-1.38535265e+00,  3.28414053e-01, -1.39706395e+00,\n",
       "        -1.31544430e+00],\n",
       "       [-1.50652052e+00,  9.82172869e-02, -1.28338910e+00,\n",
       "        -1.31544430e+00],\n",
       "       [-1.02184904e+00,  1.24920112e+00, -1.34022653e+00,\n",
       "        -1.31544430e+00],\n",
       "       [-5.37177559e-01,  1.93979142e+00, -1.16971425e+00,\n",
       "        -1.05217993e+00],\n",
       "       [-1.50652052e+00,  7.88807586e-01, -1.34022653e+00,\n",
       "        -1.18381211e+00],\n",
       "       [-1.02184904e+00,  7.88807586e-01, -1.28338910e+00,\n",
       "        -1.31544430e+00],\n",
       "       [-1.74885626e+00, -3.62176246e-01, -1.34022653e+00,\n",
       "        -1.31544430e+00],\n",
       "       [-1.14301691e+00,  9.82172869e-02, -1.28338910e+00,\n",
       "        -1.44707648e+00],\n",
       "       [-5.37177559e-01,  1.47939788e+00, -1.28338910e+00,\n",
       "        -1.31544430e+00],\n",
       "       [-1.26418478e+00,  7.88807586e-01, -1.22655167e+00,\n",
       "        -1.31544430e+00],\n",
       "       [-1.26418478e+00, -1.31979479e-01, -1.34022653e+00,\n",
       "        -1.44707648e+00],\n",
       "       [-1.87002413e+00, -1.31979479e-01, -1.51073881e+00,\n",
       "        -1.44707648e+00],\n",
       "       [-5.25060772e-02,  2.16998818e+00, -1.45390138e+00,\n",
       "        -1.31544430e+00],\n",
       "       [-1.73673948e-01,  3.09077525e+00, -1.28338910e+00,\n",
       "        -1.05217993e+00],\n",
       "       [-5.37177559e-01,  1.93979142e+00, -1.39706395e+00,\n",
       "        -1.05217993e+00],\n",
       "       [-9.00681170e-01,  1.01900435e+00, -1.34022653e+00,\n",
       "        -1.18381211e+00],\n",
       "       [-1.73673948e-01,  1.70959465e+00, -1.16971425e+00,\n",
       "        -1.18381211e+00],\n",
       "       [-9.00681170e-01,  1.70959465e+00, -1.28338910e+00,\n",
       "        -1.18381211e+00],\n",
       "       [-5.37177559e-01,  7.88807586e-01, -1.16971425e+00,\n",
       "        -1.31544430e+00],\n",
       "       [-9.00681170e-01,  1.47939788e+00, -1.28338910e+00,\n",
       "        -1.05217993e+00],\n",
       "       [-1.50652052e+00,  1.24920112e+00, -1.56757623e+00,\n",
       "        -1.31544430e+00],\n",
       "       [-9.00681170e-01,  5.58610819e-01, -1.16971425e+00,\n",
       "        -9.20547742e-01],\n",
       "       [-1.26418478e+00,  7.88807586e-01, -1.05603939e+00,\n",
       "        -1.31544430e+00],\n",
       "       [-1.02184904e+00, -1.31979479e-01, -1.22655167e+00,\n",
       "        -1.31544430e+00],\n",
       "       [-1.02184904e+00,  7.88807586e-01, -1.22655167e+00,\n",
       "        -1.05217993e+00],\n",
       "       [-7.79513300e-01,  1.01900435e+00, -1.28338910e+00,\n",
       "        -1.31544430e+00],\n",
       "       [-7.79513300e-01,  7.88807586e-01, -1.34022653e+00,\n",
       "        -1.31544430e+00],\n",
       "       [-1.38535265e+00,  3.28414053e-01, -1.22655167e+00,\n",
       "        -1.31544430e+00],\n",
       "       [-1.26418478e+00,  9.82172869e-02, -1.22655167e+00,\n",
       "        -1.31544430e+00],\n",
       "       [-5.37177559e-01,  7.88807586e-01, -1.28338910e+00,\n",
       "        -1.05217993e+00],\n",
       "       [-7.79513300e-01,  2.40018495e+00, -1.28338910e+00,\n",
       "        -1.44707648e+00],\n",
       "       [-4.16009689e-01,  2.63038172e+00, -1.34022653e+00,\n",
       "        -1.31544430e+00],\n",
       "       [-1.14301691e+00,  9.82172869e-02, -1.28338910e+00,\n",
       "        -1.31544430e+00],\n",
       "       [-1.02184904e+00,  3.28414053e-01, -1.45390138e+00,\n",
       "        -1.31544430e+00],\n",
       "       [-4.16009689e-01,  1.01900435e+00, -1.39706395e+00,\n",
       "        -1.31544430e+00],\n",
       "       [-1.14301691e+00,  1.24920112e+00, -1.34022653e+00,\n",
       "        -1.44707648e+00],\n",
       "       [-1.74885626e+00, -1.31979479e-01, -1.39706395e+00,\n",
       "        -1.31544430e+00],\n",
       "       [-9.00681170e-01,  7.88807586e-01, -1.28338910e+00,\n",
       "        -1.31544430e+00],\n",
       "       [-1.02184904e+00,  1.01900435e+00, -1.39706395e+00,\n",
       "        -1.18381211e+00],\n",
       "       [-1.62768839e+00, -1.74335684e+00, -1.39706395e+00,\n",
       "        -1.18381211e+00],\n",
       "       [-1.74885626e+00,  3.28414053e-01, -1.39706395e+00,\n",
       "        -1.31544430e+00],\n",
       "       [-1.02184904e+00,  1.01900435e+00, -1.22655167e+00,\n",
       "        -7.88915558e-01],\n",
       "       [-9.00681170e-01,  1.70959465e+00, -1.05603939e+00,\n",
       "        -1.05217993e+00],\n",
       "       [-1.26418478e+00, -1.31979479e-01, -1.34022653e+00,\n",
       "        -1.18381211e+00],\n",
       "       [-9.00681170e-01,  1.70959465e+00, -1.22655167e+00,\n",
       "        -1.31544430e+00],\n",
       "       [-1.50652052e+00,  3.28414053e-01, -1.34022653e+00,\n",
       "        -1.31544430e+00],\n",
       "       [-6.58345429e-01,  1.47939788e+00, -1.28338910e+00,\n",
       "        -1.31544430e+00],\n",
       "       [-1.02184904e+00,  5.58610819e-01, -1.34022653e+00,\n",
       "        -1.31544430e+00],\n",
       "       [ 1.40150837e+00,  3.28414053e-01,  5.35408562e-01,\n",
       "         2.64141916e-01],\n",
       "       [ 6.74501145e-01,  3.28414053e-01,  4.21733708e-01,\n",
       "         3.95774101e-01],\n",
       "       [ 1.28034050e+00,  9.82172869e-02,  6.49083415e-01,\n",
       "         3.95774101e-01],\n",
       "       [-4.16009689e-01, -1.74335684e+00,  1.37546573e-01,\n",
       "         1.32509732e-01],\n",
       "       [ 7.95669016e-01, -5.92373012e-01,  4.78571135e-01,\n",
       "         3.95774101e-01],\n",
       "       [-1.73673948e-01, -5.92373012e-01,  4.21733708e-01,\n",
       "         1.32509732e-01],\n",
       "       [ 5.53333275e-01,  5.58610819e-01,  5.35408562e-01,\n",
       "         5.27406285e-01],\n",
       "       [-1.14301691e+00, -1.51316008e+00, -2.60315415e-01,\n",
       "        -2.62386821e-01],\n",
       "       [ 9.16836886e-01, -3.62176246e-01,  4.78571135e-01,\n",
       "         1.32509732e-01],\n",
       "       [-7.79513300e-01, -8.22569778e-01,  8.07091462e-02,\n",
       "         2.64141916e-01],\n",
       "       [-1.02184904e+00, -2.43394714e+00, -1.46640561e-01,\n",
       "        -2.62386821e-01],\n",
       "       [ 6.86617933e-02, -1.31979479e-01,  2.51221427e-01,\n",
       "         3.95774101e-01],\n",
       "       [ 1.89829664e-01, -1.97355361e+00,  1.37546573e-01,\n",
       "        -2.62386821e-01],\n",
       "       [ 3.10997534e-01, -3.62176246e-01,  5.35408562e-01,\n",
       "         2.64141916e-01],\n",
       "       [-2.94841818e-01, -3.62176246e-01, -8.98031345e-02,\n",
       "         1.32509732e-01],\n",
       "       [ 1.03800476e+00,  9.82172869e-02,  3.64896281e-01,\n",
       "         2.64141916e-01],\n",
       "       [-2.94841818e-01, -1.31979479e-01,  4.21733708e-01,\n",
       "         3.95774101e-01],\n",
       "       [-5.25060772e-02, -8.22569778e-01,  1.94384000e-01,\n",
       "        -2.62386821e-01],\n",
       "       [ 4.32165405e-01, -1.97355361e+00,  4.21733708e-01,\n",
       "         3.95774101e-01],\n",
       "       [-2.94841818e-01, -1.28296331e+00,  8.07091462e-02,\n",
       "        -1.30754636e-01],\n",
       "       [ 6.86617933e-02,  3.28414053e-01,  5.92245988e-01,\n",
       "         7.90670654e-01],\n",
       "       [ 3.10997534e-01, -5.92373012e-01,  1.37546573e-01,\n",
       "         1.32509732e-01],\n",
       "       [ 5.53333275e-01, -1.28296331e+00,  6.49083415e-01,\n",
       "         3.95774101e-01],\n",
       "       [ 3.10997534e-01, -5.92373012e-01,  5.35408562e-01,\n",
       "         8.77547895e-04],\n",
       "       [ 6.74501145e-01, -3.62176246e-01,  3.08058854e-01,\n",
       "         1.32509732e-01],\n",
       "       [ 9.16836886e-01, -1.31979479e-01,  3.64896281e-01,\n",
       "         2.64141916e-01],\n",
       "       [ 1.15917263e+00, -5.92373012e-01,  5.92245988e-01,\n",
       "         2.64141916e-01],\n",
       "       [ 1.03800476e+00, -1.31979479e-01,  7.05920842e-01,\n",
       "         6.59038469e-01],\n",
       "       [ 1.89829664e-01, -3.62176246e-01,  4.21733708e-01,\n",
       "         3.95774101e-01],\n",
       "       [-1.73673948e-01, -1.05276654e+00, -1.46640561e-01,\n",
       "        -2.62386821e-01],\n",
       "       [-4.16009689e-01, -1.51316008e+00,  2.38717193e-02,\n",
       "        -1.30754636e-01],\n",
       "       [-4.16009689e-01, -1.51316008e+00, -3.29657076e-02,\n",
       "        -2.62386821e-01],\n",
       "       [-5.25060772e-02, -8.22569778e-01,  8.07091462e-02,\n",
       "         8.77547895e-04],\n",
       "       [ 1.89829664e-01, -8.22569778e-01,  7.62758269e-01,\n",
       "         5.27406285e-01],\n",
       "       [-5.37177559e-01, -1.31979479e-01,  4.21733708e-01,\n",
       "         3.95774101e-01],\n",
       "       [ 1.89829664e-01,  7.88807586e-01,  4.21733708e-01,\n",
       "         5.27406285e-01],\n",
       "       [ 1.03800476e+00,  9.82172869e-02,  5.35408562e-01,\n",
       "         3.95774101e-01],\n",
       "       [ 5.53333275e-01, -1.74335684e+00,  3.64896281e-01,\n",
       "         1.32509732e-01],\n",
       "       [-2.94841818e-01, -1.31979479e-01,  1.94384000e-01,\n",
       "         1.32509732e-01],\n",
       "       [-4.16009689e-01, -1.28296331e+00,  1.37546573e-01,\n",
       "         1.32509732e-01],\n",
       "       [-4.16009689e-01, -1.05276654e+00,  3.64896281e-01,\n",
       "         8.77547895e-04],\n",
       "       [ 3.10997534e-01, -1.31979479e-01,  4.78571135e-01,\n",
       "         2.64141916e-01],\n",
       "       [-5.25060772e-02, -1.05276654e+00,  1.37546573e-01,\n",
       "         8.77547895e-04],\n",
       "       [-1.02184904e+00, -1.74335684e+00, -2.60315415e-01,\n",
       "        -2.62386821e-01],\n",
       "       [-2.94841818e-01, -8.22569778e-01,  2.51221427e-01,\n",
       "         1.32509732e-01],\n",
       "       [-1.73673948e-01, -1.31979479e-01,  2.51221427e-01,\n",
       "         8.77547895e-04],\n",
       "       [-1.73673948e-01, -3.62176246e-01,  2.51221427e-01,\n",
       "         1.32509732e-01],\n",
       "       [ 4.32165405e-01, -3.62176246e-01,  3.08058854e-01,\n",
       "         1.32509732e-01],\n",
       "       [-9.00681170e-01, -1.28296331e+00, -4.30827696e-01,\n",
       "        -1.30754636e-01],\n",
       "       [-1.73673948e-01, -5.92373012e-01,  1.94384000e-01,\n",
       "         1.32509732e-01],\n",
       "       [ 5.53333275e-01,  5.58610819e-01,  1.27429511e+00,\n",
       "         1.71209594e+00],\n",
       "       [-5.25060772e-02, -8.22569778e-01,  7.62758269e-01,\n",
       "         9.22302838e-01],\n",
       "       [ 1.52267624e+00, -1.31979479e-01,  1.21745768e+00,\n",
       "         1.18556721e+00],\n",
       "       [ 5.53333275e-01, -3.62176246e-01,  1.04694540e+00,\n",
       "         7.90670654e-01],\n",
       "       [ 7.95669016e-01, -1.31979479e-01,  1.16062026e+00,\n",
       "         1.31719939e+00],\n",
       "       [ 2.12851559e+00, -1.31979479e-01,  1.61531967e+00,\n",
       "         1.18556721e+00],\n",
       "       [-1.14301691e+00, -1.28296331e+00,  4.21733708e-01,\n",
       "         6.59038469e-01],\n",
       "       [ 1.76501198e+00, -3.62176246e-01,  1.44480739e+00,\n",
       "         7.90670654e-01],\n",
       "       [ 1.03800476e+00, -1.28296331e+00,  1.16062026e+00,\n",
       "         7.90670654e-01],\n",
       "       [ 1.64384411e+00,  1.24920112e+00,  1.33113254e+00,\n",
       "         1.71209594e+00],\n",
       "       [ 7.95669016e-01,  3.28414053e-01,  7.62758269e-01,\n",
       "         1.05393502e+00],\n",
       "       [ 6.74501145e-01, -8.22569778e-01,  8.76433123e-01,\n",
       "         9.22302838e-01],\n",
       "       [ 1.15917263e+00, -1.31979479e-01,  9.90107977e-01,\n",
       "         1.18556721e+00],\n",
       "       [-1.73673948e-01, -1.28296331e+00,  7.05920842e-01,\n",
       "         1.05393502e+00],\n",
       "       [-5.25060772e-02, -5.92373012e-01,  7.62758269e-01,\n",
       "         1.58046376e+00],\n",
       "       [ 6.74501145e-01,  3.28414053e-01,  8.76433123e-01,\n",
       "         1.44883158e+00],\n",
       "       [ 7.95669016e-01, -1.31979479e-01,  9.90107977e-01,\n",
       "         7.90670654e-01],\n",
       "       [ 2.24968346e+00,  1.70959465e+00,  1.67215710e+00,\n",
       "         1.31719939e+00],\n",
       "       [ 2.24968346e+00, -1.05276654e+00,  1.78583195e+00,\n",
       "         1.44883158e+00],\n",
       "       [ 1.89829664e-01, -1.97355361e+00,  7.05920842e-01,\n",
       "         3.95774101e-01],\n",
       "       [ 1.28034050e+00,  3.28414053e-01,  1.10378283e+00,\n",
       "         1.44883158e+00],\n",
       "       [-2.94841818e-01, -5.92373012e-01,  6.49083415e-01,\n",
       "         1.05393502e+00],\n",
       "       [ 2.24968346e+00, -5.92373012e-01,  1.67215710e+00,\n",
       "         1.05393502e+00],\n",
       "       [ 5.53333275e-01, -8.22569778e-01,  6.49083415e-01,\n",
       "         7.90670654e-01],\n",
       "       [ 1.03800476e+00,  5.58610819e-01,  1.10378283e+00,\n",
       "         1.18556721e+00],\n",
       "       [ 1.64384411e+00,  3.28414053e-01,  1.27429511e+00,\n",
       "         7.90670654e-01],\n",
       "       [ 4.32165405e-01, -5.92373012e-01,  5.92245988e-01,\n",
       "         7.90670654e-01],\n",
       "       [ 3.10997534e-01, -1.31979479e-01,  6.49083415e-01,\n",
       "         7.90670654e-01],\n",
       "       [ 6.74501145e-01, -5.92373012e-01,  1.04694540e+00,\n",
       "         1.18556721e+00],\n",
       "       [ 1.64384411e+00, -1.31979479e-01,  1.16062026e+00,\n",
       "         5.27406285e-01],\n",
       "       [ 1.88617985e+00, -5.92373012e-01,  1.33113254e+00,\n",
       "         9.22302838e-01],\n",
       "       [ 2.49201920e+00,  1.70959465e+00,  1.50164482e+00,\n",
       "         1.05393502e+00],\n",
       "       [ 6.74501145e-01, -5.92373012e-01,  1.04694540e+00,\n",
       "         1.31719939e+00],\n",
       "       [ 5.53333275e-01, -5.92373012e-01,  7.62758269e-01,\n",
       "         3.95774101e-01],\n",
       "       [ 3.10997534e-01, -1.05276654e+00,  1.04694540e+00,\n",
       "         2.64141916e-01],\n",
       "       [ 2.24968346e+00, -1.31979479e-01,  1.33113254e+00,\n",
       "         1.44883158e+00],\n",
       "       [ 5.53333275e-01,  7.88807586e-01,  1.04694540e+00,\n",
       "         1.58046376e+00],\n",
       "       [ 6.74501145e-01,  9.82172869e-02,  9.90107977e-01,\n",
       "         7.90670654e-01],\n",
       "       [ 1.89829664e-01, -1.31979479e-01,  5.92245988e-01,\n",
       "         7.90670654e-01],\n",
       "       [ 1.28034050e+00,  9.82172869e-02,  9.33270550e-01,\n",
       "         1.18556721e+00],\n",
       "       [ 1.03800476e+00,  9.82172869e-02,  1.04694540e+00,\n",
       "         1.58046376e+00],\n",
       "       [ 1.28034050e+00,  9.82172869e-02,  7.62758269e-01,\n",
       "         1.44883158e+00],\n",
       "       [-5.25060772e-02, -8.22569778e-01,  7.62758269e-01,\n",
       "         9.22302838e-01],\n",
       "       [ 1.15917263e+00,  3.28414053e-01,  1.21745768e+00,\n",
       "         1.44883158e+00],\n",
       "       [ 1.03800476e+00,  5.58610819e-01,  1.10378283e+00,\n",
       "         1.71209594e+00],\n",
       "       [ 1.03800476e+00, -1.31979479e-01,  8.19595696e-01,\n",
       "         1.44883158e+00],\n",
       "       [ 5.53333275e-01, -1.28296331e+00,  7.05920842e-01,\n",
       "         9.22302838e-01],\n",
       "       [ 7.95669016e-01, -1.31979479e-01,  8.19595696e-01,\n",
       "         1.05393502e+00],\n",
       "       [ 4.32165405e-01,  7.88807586e-01,  9.33270550e-01,\n",
       "         1.44883158e+00],\n",
       "       [ 6.86617933e-02, -1.31979479e-01,  7.62758269e-01,\n",
       "         7.90670654e-01]])"
      ]
     },
     "execution_count": 6,
     "metadata": {},
     "output_type": "execute_result"
    }
   ],
   "source": [
    "X"
   ]
  },
  {
   "cell_type": "code",
   "execution_count": 7,
   "id": "6a22aa4f",
   "metadata": {
    "execution": {
     "iopub.execute_input": "2022-07-01T16:55:46.792388Z",
     "iopub.status.busy": "2022-07-01T16:55:46.791874Z",
     "iopub.status.idle": "2022-07-01T16:55:46.814693Z",
     "shell.execute_reply": "2022-07-01T16:55:46.813932Z"
    },
    "papermill": {
     "duration": 0.034884,
     "end_time": "2022-07-01T16:55:46.816957",
     "exception": false,
     "start_time": "2022-07-01T16:55:46.782073",
     "status": "completed"
    },
    "tags": []
   },
   "outputs": [],
   "source": [
    "pca = PCA(n_components=3)\n",
    "\n",
    "principal_components = pca.fit_transform(X)\n",
    "\n",
    "new_X = pd.DataFrame(data = principal_components, columns=['PC1','PC2','PC3'])"
   ]
  },
  {
   "cell_type": "code",
   "execution_count": 8,
   "id": "7baee659",
   "metadata": {
    "execution": {
     "iopub.execute_input": "2022-07-01T16:55:46.835739Z",
     "iopub.status.busy": "2022-07-01T16:55:46.835228Z",
     "iopub.status.idle": "2022-07-01T16:55:46.844819Z",
     "shell.execute_reply": "2022-07-01T16:55:46.843938Z"
    },
    "papermill": {
     "duration": 0.021351,
     "end_time": "2022-07-01T16:55:46.846949",
     "exception": false,
     "start_time": "2022-07-01T16:55:46.825598",
     "status": "completed"
    },
    "tags": []
   },
   "outputs": [
    {
     "data": {
      "text/html": [
       "<div>\n",
       "<style scoped>\n",
       "    .dataframe tbody tr th:only-of-type {\n",
       "        vertical-align: middle;\n",
       "    }\n",
       "\n",
       "    .dataframe tbody tr th {\n",
       "        vertical-align: top;\n",
       "    }\n",
       "\n",
       "    .dataframe thead th {\n",
       "        text-align: right;\n",
       "    }\n",
       "</style>\n",
       "<table border=\"1\" class=\"dataframe\">\n",
       "  <thead>\n",
       "    <tr style=\"text-align: right;\">\n",
       "      <th></th>\n",
       "      <th>PC1</th>\n",
       "      <th>PC2</th>\n",
       "      <th>PC3</th>\n",
       "    </tr>\n",
       "  </thead>\n",
       "  <tbody>\n",
       "    <tr>\n",
       "      <th>0</th>\n",
       "      <td>-2.264703</td>\n",
       "      <td>0.480027</td>\n",
       "      <td>-0.127706</td>\n",
       "    </tr>\n",
       "    <tr>\n",
       "      <th>1</th>\n",
       "      <td>-2.080961</td>\n",
       "      <td>-0.674134</td>\n",
       "      <td>-0.234609</td>\n",
       "    </tr>\n",
       "    <tr>\n",
       "      <th>2</th>\n",
       "      <td>-2.364229</td>\n",
       "      <td>-0.341908</td>\n",
       "      <td>0.044201</td>\n",
       "    </tr>\n",
       "    <tr>\n",
       "      <th>3</th>\n",
       "      <td>-2.299384</td>\n",
       "      <td>-0.597395</td>\n",
       "      <td>0.091290</td>\n",
       "    </tr>\n",
       "    <tr>\n",
       "      <th>4</th>\n",
       "      <td>-2.389842</td>\n",
       "      <td>0.646835</td>\n",
       "      <td>0.015738</td>\n",
       "    </tr>\n",
       "  </tbody>\n",
       "</table>\n",
       "</div>"
      ],
      "text/plain": [
       "        PC1       PC2       PC3\n",
       "0 -2.264703  0.480027 -0.127706\n",
       "1 -2.080961 -0.674134 -0.234609\n",
       "2 -2.364229 -0.341908  0.044201\n",
       "3 -2.299384 -0.597395  0.091290\n",
       "4 -2.389842  0.646835  0.015738"
      ]
     },
     "execution_count": 8,
     "metadata": {},
     "output_type": "execute_result"
    }
   ],
   "source": [
    "new_X.head()"
   ]
  },
  {
   "cell_type": "code",
   "execution_count": 9,
   "id": "dca2e5f0",
   "metadata": {
    "execution": {
     "iopub.execute_input": "2022-07-01T16:55:46.865648Z",
     "iopub.status.busy": "2022-07-01T16:55:46.864940Z",
     "iopub.status.idle": "2022-07-01T16:55:47.787196Z",
     "shell.execute_reply": "2022-07-01T16:55:47.786307Z"
    },
    "papermill": {
     "duration": 0.933809,
     "end_time": "2022-07-01T16:55:47.789222",
     "exception": false,
     "start_time": "2022-07-01T16:55:46.855413",
     "status": "completed"
    },
    "tags": []
   },
   "outputs": [
    {
     "data": {
      "text/plain": [
       "<Figure size 1080x1080 with 0 Axes>"
      ]
     },
     "metadata": {},
     "output_type": "display_data"
    },
    {
     "data": {
      "image/png": "[encoded data removed]",
      "text/plain": [
       "<Figure size 360x360 with 6 Axes>"
      ]
     },
     "metadata": {
      "needs_background": "light"
     },
     "output_type": "display_data"
    }
   ],
   "source": [
    "plt.figure(figsize=(15, 15))\n",
    "sns.pairplot(new_X, vars = new_X.columns[1:13]);"
   ]
  },
  {
   "cell_type": "code",
   "execution_count": 10,
   "id": "d7f85a7c",
   "metadata": {
    "execution": {
     "iopub.execute_input": "2022-07-01T16:55:47.809584Z",
     "iopub.status.busy": "2022-07-01T16:55:47.808927Z",
     "iopub.status.idle": "2022-07-01T16:55:47.974705Z",
     "shell.execute_reply": "2022-07-01T16:55:47.973976Z"
    },
    "papermill": {
     "duration": 0.178198,
     "end_time": "2022-07-01T16:55:47.976587",
     "exception": false,
     "start_time": "2022-07-01T16:55:47.798389",
     "status": "completed"
    },
    "tags": []
   },
   "outputs": [
    {
     "data": {
      "image/png": "[encoded data removed]",
      "text/plain": [
       "<Figure size 432x288 with 1 Axes>"
      ]
     },
     "metadata": {
      "needs_background": "light"
     },
     "output_type": "display_data"
    }
   ],
   "source": [
    "per_var = np.round(pca.explained_variance_ratio_ * 100, decimals =1)\n",
    "\n",
    "label = ['PC' + str(x) for x in range (1, len(per_var)+1)]\n",
    "\n",
    "plt.bar (x=range(1, len(per_var)+1),height=per_var,tick_label=label)\n",
    "plt.ylabel('percentage of explained variance')\n",
    "plt.xlabel('principal components')\n",
    "plt.title('scree plot')\n",
    "plt.show()"
   ]
  },
  {
   "cell_type": "code",
   "execution_count": 11,
   "id": "502b1c40",
   "metadata": {
    "execution": {
     "iopub.execute_input": "2022-07-01T16:55:47.996326Z",
     "iopub.status.busy": "2022-07-01T16:55:47.995776Z",
     "iopub.status.idle": "2022-07-01T16:55:48.015022Z",
     "shell.execute_reply": "2022-07-01T16:55:48.014085Z"
    },
    "papermill": {
     "duration": 0.031503,
     "end_time": "2022-07-01T16:55:48.017096",
     "exception": false,
     "start_time": "2022-07-01T16:55:47.985593",
     "status": "completed"
    },
    "tags": []
   },
   "outputs": [
    {
     "data": {
      "text/html": [
       "<div>\n",
       "<style scoped>\n",
       "    .dataframe tbody tr th:only-of-type {\n",
       "        vertical-align: middle;\n",
       "    }\n",
       "\n",
       "    .dataframe tbody tr th {\n",
       "        vertical-align: top;\n",
       "    }\n",
       "\n",
       "    .dataframe thead th {\n",
       "        text-align: right;\n",
       "    }\n",
       "</style>\n",
       "<table border=\"1\" class=\"dataframe\">\n",
       "  <thead>\n",
       "    <tr style=\"text-align: right;\">\n",
       "      <th></th>\n",
       "      <th>PC1</th>\n",
       "      <th>PC2</th>\n",
       "      <th>PC3</th>\n",
       "    </tr>\n",
       "  </thead>\n",
       "  <tbody>\n",
       "    <tr>\n",
       "      <th>count</th>\n",
       "      <td>1.500000e+02</td>\n",
       "      <td>1.500000e+02</td>\n",
       "      <td>1.500000e+02</td>\n",
       "    </tr>\n",
       "    <tr>\n",
       "      <th>mean</th>\n",
       "      <td>5.684342e-16</td>\n",
       "      <td>1.154632e-16</td>\n",
       "      <td>1.421085e-16</td>\n",
       "    </tr>\n",
       "    <tr>\n",
       "      <th>std</th>\n",
       "      <td>1.714084e+00</td>\n",
       "      <td>9.592523e-01</td>\n",
       "      <td>3.843720e-01</td>\n",
       "    </tr>\n",
       "    <tr>\n",
       "      <th>min</th>\n",
       "      <td>-2.774345e+00</td>\n",
       "      <td>-2.654073e+00</td>\n",
       "      <td>-8.574218e-01</td>\n",
       "    </tr>\n",
       "    <tr>\n",
       "      <th>25%</th>\n",
       "      <td>-2.102721e+00</td>\n",
       "      <td>-5.984875e-01</td>\n",
       "      <td>-2.590613e-01</td>\n",
       "    </tr>\n",
       "    <tr>\n",
       "      <th>50%</th>\n",
       "      <td>4.183111e-01</td>\n",
       "      <td>1.750202e-02</td>\n",
       "      <td>2.476241e-02</td>\n",
       "    </tr>\n",
       "    <tr>\n",
       "      <th>75%</th>\n",
       "      <td>1.343027e+00</td>\n",
       "      <td>5.940342e-01</td>\n",
       "      <td>1.945133e-01</td>\n",
       "    </tr>\n",
       "    <tr>\n",
       "      <th>max</th>\n",
       "      <td>3.310696e+00</td>\n",
       "      <td>2.686284e+00</td>\n",
       "      <td>1.005401e+00</td>\n",
       "    </tr>\n",
       "  </tbody>\n",
       "</table>\n",
       "</div>"
      ],
      "text/plain": [
       "                PC1           PC2           PC3\n",
       "count  1.500000e+02  1.500000e+02  1.500000e+02\n",
       "mean   5.684342e-16  1.154632e-16  1.421085e-16\n",
       "std    1.714084e+00  9.592523e-01  3.843720e-01\n",
       "min   -2.774345e+00 -2.654073e+00 -8.574218e-01\n",
       "25%   -2.102721e+00 -5.984875e-01 -2.590613e-01\n",
       "50%    4.183111e-01  1.750202e-02  2.476241e-02\n",
       "75%    1.343027e+00  5.940342e-01  1.945133e-01\n",
       "max    3.310696e+00  2.686284e+00  1.005401e+00"
      ]
     },
     "execution_count": 11,
     "metadata": {},
     "output_type": "execute_result"
    }
   ],
   "source": [
    "new_X.describe()"
   ]
  },
  {
   "cell_type": "code",
   "execution_count": 12,
   "id": "c478553d",
   "metadata": {
    "execution": {
     "iopub.execute_input": "2022-07-01T16:55:48.037932Z",
     "iopub.status.busy": "2022-07-01T16:55:48.037531Z",
     "iopub.status.idle": "2022-07-01T16:55:48.140452Z",
     "shell.execute_reply": "2022-07-01T16:55:48.139769Z"
    },
    "papermill": {
     "duration": 0.115784,
     "end_time": "2022-07-01T16:55:48.142467",
     "exception": false,
     "start_time": "2022-07-01T16:55:48.026683",
     "status": "completed"
    },
    "tags": []
   },
   "outputs": [],
   "source": [
    "from sklearn.cluster import KMeans\n",
    "wcss=[]"
   ]
  },
  {
   "cell_type": "code",
   "execution_count": 13,
   "id": "86f92043",
   "metadata": {
    "execution": {
     "iopub.execute_input": "2022-07-01T16:55:48.163923Z",
     "iopub.status.busy": "2022-07-01T16:55:48.163268Z",
     "iopub.status.idle": "2022-07-01T16:55:48.168268Z",
     "shell.execute_reply": "2022-07-01T16:55:48.167705Z"
    },
    "papermill": {
     "duration": 0.017656,
     "end_time": "2022-07-01T16:55:48.169878",
     "exception": false,
     "start_time": "2022-07-01T16:55:48.152222",
     "status": "completed"
    },
    "tags": []
   },
   "outputs": [
    {
     "data": {
      "text/plain": [
       "(150, 3)"
      ]
     },
     "execution_count": 13,
     "metadata": {},
     "output_type": "execute_result"
    }
   ],
   "source": [
    "new_X.shape"
   ]
  },
  {
   "cell_type": "code",
   "execution_count": 14,
   "id": "ad4db824",
   "metadata": {
    "execution": {
     "iopub.execute_input": "2022-07-01T16:55:48.191820Z",
     "iopub.status.busy": "2022-07-01T16:55:48.191207Z",
     "iopub.status.idle": "2022-07-01T16:55:48.817028Z",
     "shell.execute_reply": "2022-07-01T16:55:48.815921Z"
    },
    "papermill": {
     "duration": 0.639277,
     "end_time": "2022-07-01T16:55:48.819296",
     "exception": false,
     "start_time": "2022-07-01T16:55:48.180019",
     "status": "completed"
    },
    "tags": []
   },
   "outputs": [
    {
     "data": {
      "text/plain": [
       "[<matplotlib.lines.Line2D at 0x7fb058c89f90>]"
      ]
     },
     "execution_count": 14,
     "metadata": {},
     "output_type": "execute_result"
    },
    {
     "data": {
      "image/png": "[encoded data removed]",
      "text/plain": [
       "<Figure size 864x432 with 1 Axes>"
      ]
     },
     "metadata": {
      "needs_background": "light"
     },
     "output_type": "display_data"
    }
   ],
   "source": [
    "from sklearn.cluster import KMeans\n",
    "inertia = []\n",
    "\n",
    "for i in range(1, 11):\n",
    "  kmeans = KMeans(n_clusters=i, init='k-means++', max_iter=300, n_init=10, random_state=0)\n",
    "  kmeans.fit(new_X.values)\n",
    "  inertia.append(kmeans.inertia_)\n",
    "\n",
    "plt.figure(figsize=(12, 6))\n",
    "plt.plot(inertia) #Elbow Method"
   ]
  },
  {
   "cell_type": "code",
   "execution_count": 15,
   "id": "3061ab61",
   "metadata": {
    "execution": {
     "iopub.execute_input": "2022-07-01T16:55:48.841733Z",
     "iopub.status.busy": "2022-07-01T16:55:48.840819Z",
     "iopub.status.idle": "2022-07-01T16:55:48.878506Z",
     "shell.execute_reply": "2022-07-01T16:55:48.877707Z"
    },
    "papermill": {
     "duration": 0.051546,
     "end_time": "2022-07-01T16:55:48.880945",
     "exception": false,
     "start_time": "2022-07-01T16:55:48.829399",
     "status": "completed"
    },
    "tags": []
   },
   "outputs": [
    {
     "data": {
      "text/plain": [
       "KMeans(n_clusters=3, random_state=0)"
      ]
     },
     "execution_count": 15,
     "metadata": {},
     "output_type": "execute_result"
    }
   ],
   "source": [
    "from sklearn.cluster import KMeans\n",
    "kmeans = KMeans(n_clusters=3, init='k-means++', max_iter=300, n_init=10, random_state=0)\n",
    "kmeans.fit(new_X.values)"
   ]
  },
  {
   "cell_type": "code",
   "execution_count": 16,
   "id": "ea63c865",
   "metadata": {
    "execution": {
     "iopub.execute_input": "2022-07-01T16:55:48.904863Z",
     "iopub.status.busy": "2022-07-01T16:55:48.904441Z",
     "iopub.status.idle": "2022-07-01T16:55:48.911621Z",
     "shell.execute_reply": "2022-07-01T16:55:48.910445Z"
    },
    "papermill": {
     "duration": 0.020923,
     "end_time": "2022-07-01T16:55:48.913559",
     "exception": false,
     "start_time": "2022-07-01T16:55:48.892636",
     "status": "completed"
    },
    "tags": []
   },
   "outputs": [],
   "source": [
    "new_X['target'] = y\n",
    "new_X['fit'] = kmeans.labels_"
   ]
  },
  {
   "cell_type": "code",
   "execution_count": 17,
   "id": "8b92bdcb",
   "metadata": {
    "execution": {
     "iopub.execute_input": "2022-07-01T16:55:48.936628Z",
     "iopub.status.busy": "2022-07-01T16:55:48.936233Z",
     "iopub.status.idle": "2022-07-01T16:55:49.213396Z",
     "shell.execute_reply": "2022-07-01T16:55:49.212684Z"
    },
    "papermill": {
     "duration": 0.291006,
     "end_time": "2022-07-01T16:55:49.215319",
     "exception": false,
     "start_time": "2022-07-01T16:55:48.924313",
     "status": "completed"
    },
    "tags": []
   },
   "outputs": [
    {
     "data": {
      "image/png": "[encoded data removed]",
      "text/plain": [
       "<Figure size 576x576 with 1 Axes>"
      ]
     },
     "metadata": {
      "needs_background": "light"
     },
     "output_type": "display_data"
    }
   ],
   "source": [
    "plt.rcParams[\"figure.figsize\"] = (8, 8)\n",
    "sns.scatterplot(x='PC1', y='PC2', hue=new_X.target.to_list(), data=new_X);"
   ]
  },
  {
   "cell_type": "code",
   "execution_count": 18,
   "id": "f3cd6772",
   "metadata": {
    "execution": {
     "iopub.execute_input": "2022-07-01T16:55:49.241272Z",
     "iopub.status.busy": "2022-07-01T16:55:49.240473Z",
     "iopub.status.idle": "2022-07-01T16:55:49.252628Z",
     "shell.execute_reply": "2022-07-01T16:55:49.251944Z"
    },
    "papermill": {
     "duration": 0.027339,
     "end_time": "2022-07-01T16:55:49.254544",
     "exception": false,
     "start_time": "2022-07-01T16:55:49.227205",
     "status": "completed"
    },
    "tags": []
   },
   "outputs": [
    {
     "data": {
      "text/html": [
       "<div>\n",
       "<style scoped>\n",
       "    .dataframe tbody tr th:only-of-type {\n",
       "        vertical-align: middle;\n",
       "    }\n",
       "\n",
       "    .dataframe tbody tr th {\n",
       "        vertical-align: top;\n",
       "    }\n",
       "\n",
       "    .dataframe thead th {\n",
       "        text-align: right;\n",
       "    }\n",
       "</style>\n",
       "<table border=\"1\" class=\"dataframe\">\n",
       "  <thead>\n",
       "    <tr style=\"text-align: right;\">\n",
       "      <th></th>\n",
       "      <th>PC1</th>\n",
       "      <th>PC2</th>\n",
       "      <th>PC3</th>\n",
       "      <th>target</th>\n",
       "      <th>fit</th>\n",
       "    </tr>\n",
       "  </thead>\n",
       "  <tbody>\n",
       "    <tr>\n",
       "      <th>0</th>\n",
       "      <td>-2.264703</td>\n",
       "      <td>0.480027</td>\n",
       "      <td>-0.127706</td>\n",
       "      <td>setosa</td>\n",
       "      <td>1</td>\n",
       "    </tr>\n",
       "    <tr>\n",
       "      <th>1</th>\n",
       "      <td>-2.080961</td>\n",
       "      <td>-0.674134</td>\n",
       "      <td>-0.234609</td>\n",
       "      <td>setosa</td>\n",
       "      <td>1</td>\n",
       "    </tr>\n",
       "    <tr>\n",
       "      <th>2</th>\n",
       "      <td>-2.364229</td>\n",
       "      <td>-0.341908</td>\n",
       "      <td>0.044201</td>\n",
       "      <td>setosa</td>\n",
       "      <td>1</td>\n",
       "    </tr>\n",
       "    <tr>\n",
       "      <th>3</th>\n",
       "      <td>-2.299384</td>\n",
       "      <td>-0.597395</td>\n",
       "      <td>0.091290</td>\n",
       "      <td>setosa</td>\n",
       "      <td>1</td>\n",
       "    </tr>\n",
       "    <tr>\n",
       "      <th>4</th>\n",
       "      <td>-2.389842</td>\n",
       "      <td>0.646835</td>\n",
       "      <td>0.015738</td>\n",
       "      <td>setosa</td>\n",
       "      <td>1</td>\n",
       "    </tr>\n",
       "  </tbody>\n",
       "</table>\n",
       "</div>"
      ],
      "text/plain": [
       "        PC1       PC2       PC3  target  fit\n",
       "0 -2.264703  0.480027 -0.127706  setosa    1\n",
       "1 -2.080961 -0.674134 -0.234609  setosa    1\n",
       "2 -2.364229 -0.341908  0.044201  setosa    1\n",
       "3 -2.299384 -0.597395  0.091290  setosa    1\n",
       "4 -2.389842  0.646835  0.015738  setosa    1"
      ]
     },
     "execution_count": 18,
     "metadata": {},
     "output_type": "execute_result"
    }
   ],
   "source": [
    "new_X.head()"
   ]
  },
  {
   "cell_type": "code",
   "execution_count": 19,
   "id": "f40ad85c",
   "metadata": {
    "execution": {
     "iopub.execute_input": "2022-07-01T16:55:49.279567Z",
     "iopub.status.busy": "2022-07-01T16:55:49.278962Z",
     "iopub.status.idle": "2022-07-01T16:55:49.296718Z",
     "shell.execute_reply": "2022-07-01T16:55:49.296066Z"
    },
    "papermill": {
     "duration": 0.032605,
     "end_time": "2022-07-01T16:55:49.298594",
     "exception": false,
     "start_time": "2022-07-01T16:55:49.265989",
     "status": "completed"
    },
    "tags": []
   },
   "outputs": [
    {
     "data": {
      "text/html": [
       "<div>\n",
       "<style scoped>\n",
       "    .dataframe tbody tr th:only-of-type {\n",
       "        vertical-align: middle;\n",
       "    }\n",
       "\n",
       "    .dataframe tbody tr th {\n",
       "        vertical-align: top;\n",
       "    }\n",
       "\n",
       "    .dataframe thead th {\n",
       "        text-align: right;\n",
       "    }\n",
       "</style>\n",
       "<table border=\"1\" class=\"dataframe\">\n",
       "  <thead>\n",
       "    <tr style=\"text-align: right;\">\n",
       "      <th></th>\n",
       "      <th>Category</th>\n",
       "      <th>PC1</th>\n",
       "      <th>PC2</th>\n",
       "      <th>PC3</th>\n",
       "      <th>target</th>\n",
       "      <th>fit</th>\n",
       "    </tr>\n",
       "  </thead>\n",
       "  <tbody>\n",
       "    <tr>\n",
       "      <th>0</th>\n",
       "      <td>1.0</td>\n",
       "      <td>-2.264703</td>\n",
       "      <td>0.480027</td>\n",
       "      <td>-0.127706</td>\n",
       "      <td>setosa</td>\n",
       "      <td>1</td>\n",
       "    </tr>\n",
       "    <tr>\n",
       "      <th>1</th>\n",
       "      <td>1.0</td>\n",
       "      <td>-2.080961</td>\n",
       "      <td>-0.674134</td>\n",
       "      <td>-0.234609</td>\n",
       "      <td>setosa</td>\n",
       "      <td>1</td>\n",
       "    </tr>\n",
       "    <tr>\n",
       "      <th>2</th>\n",
       "      <td>1.0</td>\n",
       "      <td>-2.364229</td>\n",
       "      <td>-0.341908</td>\n",
       "      <td>0.044201</td>\n",
       "      <td>setosa</td>\n",
       "      <td>1</td>\n",
       "    </tr>\n",
       "    <tr>\n",
       "      <th>3</th>\n",
       "      <td>1.0</td>\n",
       "      <td>-2.299384</td>\n",
       "      <td>-0.597395</td>\n",
       "      <td>0.091290</td>\n",
       "      <td>setosa</td>\n",
       "      <td>1</td>\n",
       "    </tr>\n",
       "    <tr>\n",
       "      <th>4</th>\n",
       "      <td>1.0</td>\n",
       "      <td>-2.389842</td>\n",
       "      <td>0.646835</td>\n",
       "      <td>0.015738</td>\n",
       "      <td>setosa</td>\n",
       "      <td>1</td>\n",
       "    </tr>\n",
       "  </tbody>\n",
       "</table>\n",
       "</div>"
      ],
      "text/plain": [
       "   Category       PC1       PC2       PC3  target  fit\n",
       "0       1.0 -2.264703  0.480027 -0.127706  setosa    1\n",
       "1       1.0 -2.080961 -0.674134 -0.234609  setosa    1\n",
       "2       1.0 -2.364229 -0.341908  0.044201  setosa    1\n",
       "3       1.0 -2.299384 -0.597395  0.091290  setosa    1\n",
       "4       1.0 -2.389842  0.646835  0.015738  setosa    1"
      ]
     },
     "execution_count": 19,
     "metadata": {},
     "output_type": "execute_result"
    }
   ],
   "source": [
    "new_X.insert(0,\"Category\",np.nan,True)\n",
    "new_X.loc[new_X['fit'] == 0, 'Category'] = 0\n",
    "new_X.loc[new_X['fit'] == 1, 'Category'] = 1\n",
    "new_X.loc[new_X['fit'] == 2, 'Category'] = 2\n",
    "new_X.loc[new_X['fit'] == 3, 'Category'] = 3\n",
    "\n",
    "new_X.head(5)"
   ]
  },
  {
   "cell_type": "code",
   "execution_count": 20,
   "id": "ad911deb",
   "metadata": {
    "execution": {
     "iopub.execute_input": "2022-07-01T16:55:49.323997Z",
     "iopub.status.busy": "2022-07-01T16:55:49.323401Z",
     "iopub.status.idle": "2022-07-01T16:55:49.338823Z",
     "shell.execute_reply": "2022-07-01T16:55:49.338121Z"
    },
    "papermill": {
     "duration": 0.030872,
     "end_time": "2022-07-01T16:55:49.341003",
     "exception": false,
     "start_time": "2022-07-01T16:55:49.310131",
     "status": "completed"
    },
    "tags": []
   },
   "outputs": [
    {
     "name": "stdout",
     "output_type": "stream",
     "text": [
      "<class 'pandas.core.frame.DataFrame'>\n",
      "RangeIndex: 150 entries, 0 to 149\n",
      "Data columns (total 4 columns):\n",
      " #   Column     Non-Null Count  Dtype  \n",
      "---  ------     --------------  -----  \n",
      " 0   Category   150 non-null    float64\n",
      " 1   PC1 (St.)  150 non-null    float64\n",
      " 2   PC2 (St.)  150 non-null    float64\n",
      " 3   PC3 (St.)  150 non-null    float64\n",
      "dtypes: float64(4)\n",
      "memory usage: 4.8 KB\n"
     ]
    }
   ],
   "source": [
    "new_X.drop([\"fit\",\"target\"], axis=1, inplace=True)\n",
    "new_X.columns = ['Category','PC1 (St.)','PC2 (St.)', 'PC3 (St.)']\n",
    "new_X.info()"
   ]
  },
  {
   "cell_type": "code",
   "execution_count": 21,
   "id": "a37d1d12",
   "metadata": {
    "execution": {
     "iopub.execute_input": "2022-07-01T16:55:49.367071Z",
     "iopub.status.busy": "2022-07-01T16:55:49.366376Z",
     "iopub.status.idle": "2022-07-01T16:55:49.877722Z",
     "shell.execute_reply": "2022-07-01T16:55:49.876625Z"
    },
    "papermill": {
     "duration": 0.527849,
     "end_time": "2022-07-01T16:55:49.880736",
     "exception": false,
     "start_time": "2022-07-01T16:55:49.352887",
     "status": "completed"
    },
    "tags": []
   },
   "outputs": [
    {
     "data": {
      "image/png": "[encoded data removed]",
      "text/plain": [
       "<Figure size 576x576 with 1 Axes>"
      ]
     },
     "metadata": {
      "needs_background": "light"
     },
     "output_type": "display_data"
    }
   ],
   "source": [
    "from mpl_toolkits.mplot3d import Axes3D\n",
    "\n",
    "fig = plt.figure()\n",
    "ax = fig.add_subplot(111, projection = '3d')\n",
    "\n",
    "\n",
    "x = new_X['PC1 (St.)']\n",
    "y = new_X['PC2 (St.)']\n",
    "z = new_X['PC3 (St.)']\n",
    "\n",
    "ax.set_xlabel(\"PC1 (St.)\")\n",
    "ax.set_ylabel(\"PC2 (St.)\")\n",
    "ax.set_zlabel(\"PC3 (St.)\")\n",
    "\n",
    "cmap = ListedColormap(sns.color_palette(\"RdYlGn\", 256).as_hex())\n",
    "\n",
    "sc = ax.scatter(x, y, z, s=40, c=new_X['Category'], marker='o', cmap=cmap, alpha=1)\n",
    "plt.legend(*sc.legend_elements(), bbox_to_anchor=(1.05, 1), loc=2)\n",
    "\n",
    "plt.show()"
   ]
  },
  {
   "cell_type": "code",
   "execution_count": 22,
   "id": "6d18b73e",
   "metadata": {
    "execution": {
     "iopub.execute_input": "2022-07-01T16:55:49.909413Z",
     "iopub.status.busy": "2022-07-01T16:55:49.908396Z",
     "iopub.status.idle": "2022-07-01T16:55:50.204273Z",
     "shell.execute_reply": "2022-07-01T16:55:50.203176Z"
    },
    "papermill": {
     "duration": 0.312762,
     "end_time": "2022-07-01T16:55:50.206506",
     "exception": false,
     "start_time": "2022-07-01T16:55:49.893744",
     "status": "completed"
    },
    "tags": []
   },
   "outputs": [
    {
     "data": {
      "image/png": "[encoded data removed]",
      "text/plain": [
       "<Figure size 576x576 with 1 Axes>"
      ]
     },
     "metadata": {
      "needs_background": "light"
     },
     "output_type": "display_data"
    }
   ],
   "source": [
    "palette = {0:\"tab:red\",\n",
    "           1:\"yellow\", \n",
    "           2:\"lightgreen\",\n",
    "           3:\"darkgreen\"}\n",
    "\n",
    "sns.scatterplot(x='PC1 (St.)', y='PC3 (St.)', \n",
    "                hue='Category', data=new_X, s=80,\n",
    "                palette=palette)\n",
    "plt.title(\"PC1 vs PC3 (St.)\", fontsize=18, y=1.05)\n",
    "plt.show()"
   ]
  },
  {
   "cell_type": "code",
   "execution_count": 23,
   "id": "cd651515",
   "metadata": {
    "execution": {
     "iopub.execute_input": "2022-07-01T16:55:50.236405Z",
     "iopub.status.busy": "2022-07-01T16:55:50.235978Z",
     "iopub.status.idle": "2022-07-01T16:55:50.678358Z",
     "shell.execute_reply": "2022-07-01T16:55:50.677359Z"
    },
    "papermill": {
     "duration": 0.459755,
     "end_time": "2022-07-01T16:55:50.680244",
     "exception": false,
     "start_time": "2022-07-01T16:55:50.220489",
     "status": "completed"
    },
    "tags": []
   },
   "outputs": [
    {
     "data": {
      "image/png": "[encoded data removed]",
      "text/plain": [
       "<Figure size 576x576 with 1 Axes>"
      ]
     },
     "metadata": {
      "needs_background": "light"
     },
     "output_type": "display_data"
    }
   ],
   "source": [
    "sns.scatterplot(x='PC2 (St.)', y='PC3 (St.)', \n",
    "                hue='Category', data=new_X, s=80,\n",
    "                palette=palette)\n",
    "plt.title(\"PC2 vs PC3 (St.)\", fontsize=18, y=1.05)\n",
    "plt.show()"
   ]
  },
  {
   "cell_type": "code",
   "execution_count": 24,
   "id": "2943c3d5",
   "metadata": {
    "execution": {
     "iopub.execute_input": "2022-07-01T16:55:50.713882Z",
     "iopub.status.busy": "2022-07-01T16:55:50.713474Z",
     "iopub.status.idle": "2022-07-01T16:55:50.993863Z",
     "shell.execute_reply": "2022-07-01T16:55:50.992944Z"
    },
    "papermill": {
     "duration": 0.301575,
     "end_time": "2022-07-01T16:55:50.996578",
     "exception": false,
     "start_time": "2022-07-01T16:55:50.695003",
     "status": "completed"
    },
    "tags": []
   },
   "outputs": [
    {
     "data": {
      "image/png": "[encoded data removed]",
      "text/plain": [
       "<Figure size 576x576 with 1 Axes>"
      ]
     },
     "metadata": {
      "needs_background": "light"
     },
     "output_type": "display_data"
    }
   ],
   "source": [
    "sns.scatterplot(x='PC1 (St.)', y='PC2 (St.)', \n",
    "                hue='Category', data=new_X, s=80,\n",
    "                palette=palette)\n",
    "plt.title(\"PC1 vs PC2 (St.)\", fontsize=18, y=1.05)\n",
    "plt.show()"
   ]
  },
  {
   "cell_type": "code",
   "execution_count": 25,
   "id": "877fa86c",
   "metadata": {
    "execution": {
     "iopub.execute_input": "2022-07-01T16:55:51.028193Z",
     "iopub.status.busy": "2022-07-01T16:55:51.027580Z",
     "iopub.status.idle": "2022-07-01T16:55:51.032965Z",
     "shell.execute_reply": "2022-07-01T16:55:51.032196Z"
    },
    "papermill": {
     "duration": 0.023316,
     "end_time": "2022-07-01T16:55:51.034798",
     "exception": false,
     "start_time": "2022-07-01T16:55:51.011482",
     "status": "completed"
    },
    "tags": []
   },
   "outputs": [],
   "source": [
    "new_X.drop (['Category'], axis=1, inplace=True)"
   ]
  },
  {
   "cell_type": "code",
   "execution_count": 26,
   "id": "e8778ad6",
   "metadata": {
    "execution": {
     "iopub.execute_input": "2022-07-01T16:55:51.067029Z",
     "iopub.status.busy": "2022-07-01T16:55:51.066185Z",
     "iopub.status.idle": "2022-07-01T16:55:51.103169Z",
     "shell.execute_reply": "2022-07-01T16:55:51.102246Z"
    },
    "papermill": {
     "duration": 0.05569,
     "end_time": "2022-07-01T16:55:51.105449",
     "exception": false,
     "start_time": "2022-07-01T16:55:51.049759",
     "status": "completed"
    },
    "tags": []
   },
   "outputs": [
    {
     "data": {
      "text/html": [
       "<div>\n",
       "<style scoped>\n",
       "    .dataframe tbody tr th:only-of-type {\n",
       "        vertical-align: middle;\n",
       "    }\n",
       "\n",
       "    .dataframe tbody tr th {\n",
       "        vertical-align: top;\n",
       "    }\n",
       "\n",
       "    .dataframe thead th {\n",
       "        text-align: right;\n",
       "    }\n",
       "</style>\n",
       "<table border=\"1\" class=\"dataframe\">\n",
       "  <thead>\n",
       "    <tr style=\"text-align: right;\">\n",
       "      <th></th>\n",
       "      <th>Industry</th>\n",
       "      <th>Company</th>\n",
       "      <th>PC1 (St.)</th>\n",
       "      <th>PC2 (St.)</th>\n",
       "      <th>PC3 (St.)</th>\n",
       "      <th>Emitten</th>\n",
       "      <th>Category</th>\n",
       "    </tr>\n",
       "  </thead>\n",
       "  <tbody>\n",
       "    <tr>\n",
       "      <th>0</th>\n",
       "      <td>Food and Beverages</td>\n",
       "      <td>Daimond  Food Indonesia Tbk.</td>\n",
       "      <td>-2.264703</td>\n",
       "      <td>0.480027</td>\n",
       "      <td>-0.127706</td>\n",
       "      <td>DMND</td>\n",
       "      <td>2.0</td>\n",
       "    </tr>\n",
       "    <tr>\n",
       "      <th>1</th>\n",
       "      <td>Food and Beverages</td>\n",
       "      <td>Prima Cakrawala Abadi Tbk.</td>\n",
       "      <td>-2.080961</td>\n",
       "      <td>-0.674134</td>\n",
       "      <td>-0.234609</td>\n",
       "      <td>PCAR</td>\n",
       "      <td>1.0</td>\n",
       "    </tr>\n",
       "    <tr>\n",
       "      <th>2</th>\n",
       "      <td>Food and Beverages</td>\n",
       "      <td>Akasha Wira International Tbk.</td>\n",
       "      <td>-2.364229</td>\n",
       "      <td>-0.341908</td>\n",
       "      <td>0.044201</td>\n",
       "      <td>ADES</td>\n",
       "      <td>2.0</td>\n",
       "    </tr>\n",
       "    <tr>\n",
       "      <th>3</th>\n",
       "      <td>Food and Beverages</td>\n",
       "      <td>FKS Food Sejahtera Tbk.</td>\n",
       "      <td>-2.299384</td>\n",
       "      <td>-0.597395</td>\n",
       "      <td>0.091290</td>\n",
       "      <td>AISA</td>\n",
       "      <td>3.0</td>\n",
       "    </tr>\n",
       "    <tr>\n",
       "      <th>4</th>\n",
       "      <td>Food and Beverages</td>\n",
       "      <td>Tri Banyan Tirta Tbk.</td>\n",
       "      <td>-2.389842</td>\n",
       "      <td>0.646835</td>\n",
       "      <td>0.015738</td>\n",
       "      <td>ALTO</td>\n",
       "      <td>3.0</td>\n",
       "    </tr>\n",
       "    <tr>\n",
       "      <th>5</th>\n",
       "      <td>Food and Beverages</td>\n",
       "      <td>Bumi Teknokultura Unggul Tbk.</td>\n",
       "      <td>-2.075631</td>\n",
       "      <td>1.489178</td>\n",
       "      <td>0.026968</td>\n",
       "      <td>BTEK</td>\n",
       "      <td>1.0</td>\n",
       "    </tr>\n",
       "    <tr>\n",
       "      <th>6</th>\n",
       "      <td>Food and Beverages</td>\n",
       "      <td>Budi Starch &amp; Sweetener Tbk.</td>\n",
       "      <td>-2.444029</td>\n",
       "      <td>0.047644</td>\n",
       "      <td>0.335470</td>\n",
       "      <td>BUDI</td>\n",
       "      <td>3.0</td>\n",
       "    </tr>\n",
       "    <tr>\n",
       "      <th>7</th>\n",
       "      <td>Food and Beverages</td>\n",
       "      <td>Campina Ice Cream Industry Tbk.</td>\n",
       "      <td>-2.232847</td>\n",
       "      <td>0.223148</td>\n",
       "      <td>-0.088695</td>\n",
       "      <td>CAMP</td>\n",
       "      <td>3.0</td>\n",
       "    </tr>\n",
       "    <tr>\n",
       "      <th>8</th>\n",
       "      <td>Food and Beverages</td>\n",
       "      <td>Wilmar Cahaya Indonesia Tbk.</td>\n",
       "      <td>-2.334640</td>\n",
       "      <td>-1.115328</td>\n",
       "      <td>0.145077</td>\n",
       "      <td>CEKA</td>\n",
       "      <td>2.0</td>\n",
       "    </tr>\n",
       "    <tr>\n",
       "      <th>9</th>\n",
       "      <td>Food and Beverages</td>\n",
       "      <td>Sariguna Primatirta Tbk.</td>\n",
       "      <td>-2.184328</td>\n",
       "      <td>-0.469014</td>\n",
       "      <td>-0.253766</td>\n",
       "      <td>CLEO</td>\n",
       "      <td>2.0</td>\n",
       "    </tr>\n",
       "    <tr>\n",
       "      <th>10</th>\n",
       "      <td>Food and Beverages</td>\n",
       "      <td>Wahana Interfood Nusantara Tbk.</td>\n",
       "      <td>-2.166310</td>\n",
       "      <td>1.043691</td>\n",
       "      <td>-0.268681</td>\n",
       "      <td>COCO</td>\n",
       "      <td>3.0</td>\n",
       "    </tr>\n",
       "    <tr>\n",
       "      <th>11</th>\n",
       "      <td>Food and Beverages</td>\n",
       "      <td>Delta Djakarta Tbk.</td>\n",
       "      <td>-2.326131</td>\n",
       "      <td>0.133078</td>\n",
       "      <td>0.093759</td>\n",
       "      <td>DLTA</td>\n",
       "      <td>2.0</td>\n",
       "    </tr>\n",
       "    <tr>\n",
       "      <th>12</th>\n",
       "      <td>Food and Beverages</td>\n",
       "      <td>Morenzo Abadi Perkasa Tbk.</td>\n",
       "      <td>-2.218451</td>\n",
       "      <td>-0.728676</td>\n",
       "      <td>-0.230911</td>\n",
       "      <td>ENZO</td>\n",
       "      <td>3.0</td>\n",
       "    </tr>\n",
       "    <tr>\n",
       "      <th>13</th>\n",
       "      <td>Food and Beverages</td>\n",
       "      <td>Sentra Food Indonesia Tbk.</td>\n",
       "      <td>-2.633101</td>\n",
       "      <td>-0.961507</td>\n",
       "      <td>0.180796</td>\n",
       "      <td>FOOD</td>\n",
       "      <td>3.0</td>\n",
       "    </tr>\n",
       "    <tr>\n",
       "      <th>14</th>\n",
       "      <td>Food and Beverages</td>\n",
       "      <td>Garudafood Putra Putri Jaya Tbk.</td>\n",
       "      <td>-2.198741</td>\n",
       "      <td>1.860057</td>\n",
       "      <td>-0.472901</td>\n",
       "      <td>GOOD</td>\n",
       "      <td>2.0</td>\n",
       "    </tr>\n",
       "    <tr>\n",
       "      <th>15</th>\n",
       "      <td>Food and Beverages</td>\n",
       "      <td>Buyung Poetra Sembada Tbk.</td>\n",
       "      <td>-2.262215</td>\n",
       "      <td>2.686284</td>\n",
       "      <td>0.030527</td>\n",
       "      <td>HOKI</td>\n",
       "      <td>2.0</td>\n",
       "    </tr>\n",
       "    <tr>\n",
       "      <th>16</th>\n",
       "      <td>Food and Beverages</td>\n",
       "      <td>Indofood CBP Sukses Makmur Tbk.</td>\n",
       "      <td>-2.207588</td>\n",
       "      <td>1.483609</td>\n",
       "      <td>-0.005344</td>\n",
       "      <td>ICBP</td>\n",
       "      <td>4.0</td>\n",
       "    </tr>\n",
       "    <tr>\n",
       "      <th>17</th>\n",
       "      <td>Food and Beverages</td>\n",
       "      <td>Era Mandiri Cemerlang Tbk.</td>\n",
       "      <td>-2.190350</td>\n",
       "      <td>0.488838</td>\n",
       "      <td>-0.044215</td>\n",
       "      <td>IKAN</td>\n",
       "      <td>3.0</td>\n",
       "    </tr>\n",
       "    <tr>\n",
       "      <th>18</th>\n",
       "      <td>Food and Beverages</td>\n",
       "      <td>Indofood Sukses Makmur Tbk.</td>\n",
       "      <td>-1.898572</td>\n",
       "      <td>1.405019</td>\n",
       "      <td>-0.374343</td>\n",
       "      <td>INDF</td>\n",
       "      <td>0.0</td>\n",
       "    </tr>\n",
       "    <tr>\n",
       "      <th>19</th>\n",
       "      <td>Food and Beverages</td>\n",
       "      <td>Mulia Boga Raya Tbk.</td>\n",
       "      <td>-2.343369</td>\n",
       "      <td>1.127849</td>\n",
       "      <td>0.132630</td>\n",
       "      <td>KEJU</td>\n",
       "      <td>0.0</td>\n",
       "    </tr>\n",
       "    <tr>\n",
       "      <th>20</th>\n",
       "      <td>NaN</td>\n",
       "      <td>NaN</td>\n",
       "      <td>-1.914323</td>\n",
       "      <td>0.408856</td>\n",
       "      <td>-0.421293</td>\n",
       "      <td>NaN</td>\n",
       "      <td>NaN</td>\n",
       "    </tr>\n",
       "    <tr>\n",
       "      <th>21</th>\n",
       "      <td>NaN</td>\n",
       "      <td>NaN</td>\n",
       "      <td>-2.207013</td>\n",
       "      <td>0.924121</td>\n",
       "      <td>0.159865</td>\n",
       "      <td>NaN</td>\n",
       "      <td>NaN</td>\n",
       "    </tr>\n",
       "    <tr>\n",
       "      <th>22</th>\n",
       "      <td>NaN</td>\n",
       "      <td>NaN</td>\n",
       "      <td>-2.774345</td>\n",
       "      <td>0.458344</td>\n",
       "      <td>0.332179</td>\n",
       "      <td>NaN</td>\n",
       "      <td>NaN</td>\n",
       "    </tr>\n",
       "    <tr>\n",
       "      <th>23</th>\n",
       "      <td>NaN</td>\n",
       "      <td>NaN</td>\n",
       "      <td>-1.818670</td>\n",
       "      <td>0.085559</td>\n",
       "      <td>0.034489</td>\n",
       "      <td>NaN</td>\n",
       "      <td>NaN</td>\n",
       "    </tr>\n",
       "    <tr>\n",
       "      <th>24</th>\n",
       "      <td>NaN</td>\n",
       "      <td>NaN</td>\n",
       "      <td>-2.227163</td>\n",
       "      <td>0.137254</td>\n",
       "      <td>0.117994</td>\n",
       "      <td>NaN</td>\n",
       "      <td>NaN</td>\n",
       "    </tr>\n",
       "    <tr>\n",
       "      <th>25</th>\n",
       "      <td>NaN</td>\n",
       "      <td>NaN</td>\n",
       "      <td>-1.951846</td>\n",
       "      <td>-0.625619</td>\n",
       "      <td>-0.305641</td>\n",
       "      <td>NaN</td>\n",
       "      <td>NaN</td>\n",
       "    </tr>\n",
       "    <tr>\n",
       "      <th>26</th>\n",
       "      <td>NaN</td>\n",
       "      <td>NaN</td>\n",
       "      <td>-2.051151</td>\n",
       "      <td>0.242164</td>\n",
       "      <td>0.086364</td>\n",
       "      <td>NaN</td>\n",
       "      <td>NaN</td>\n",
       "    </tr>\n",
       "    <tr>\n",
       "      <th>27</th>\n",
       "      <td>NaN</td>\n",
       "      <td>NaN</td>\n",
       "      <td>-2.168577</td>\n",
       "      <td>0.527150</td>\n",
       "      <td>-0.206816</td>\n",
       "      <td>NaN</td>\n",
       "      <td>NaN</td>\n",
       "    </tr>\n",
       "    <tr>\n",
       "      <th>28</th>\n",
       "      <td>NaN</td>\n",
       "      <td>NaN</td>\n",
       "      <td>-2.139563</td>\n",
       "      <td>0.313218</td>\n",
       "      <td>-0.271150</td>\n",
       "      <td>NaN</td>\n",
       "      <td>NaN</td>\n",
       "    </tr>\n",
       "    <tr>\n",
       "      <th>29</th>\n",
       "      <td>NaN</td>\n",
       "      <td>NaN</td>\n",
       "      <td>-2.265261</td>\n",
       "      <td>-0.337732</td>\n",
       "      <td>0.068436</td>\n",
       "      <td>NaN</td>\n",
       "      <td>NaN</td>\n",
       "    </tr>\n",
       "    <tr>\n",
       "      <th>30</th>\n",
       "      <td>NaN</td>\n",
       "      <td>NaN</td>\n",
       "      <td>-2.140122</td>\n",
       "      <td>-0.504541</td>\n",
       "      <td>-0.075008</td>\n",
       "      <td>NaN</td>\n",
       "      <td>NaN</td>\n",
       "    </tr>\n",
       "    <tr>\n",
       "      <th>31</th>\n",
       "      <td>NaN</td>\n",
       "      <td>NaN</td>\n",
       "      <td>-1.831595</td>\n",
       "      <td>0.423695</td>\n",
       "      <td>-0.270467</td>\n",
       "      <td>NaN</td>\n",
       "      <td>NaN</td>\n",
       "    </tr>\n",
       "    <tr>\n",
       "      <th>32</th>\n",
       "      <td>NaN</td>\n",
       "      <td>NaN</td>\n",
       "      <td>-2.614948</td>\n",
       "      <td>1.793576</td>\n",
       "      <td>0.047228</td>\n",
       "      <td>NaN</td>\n",
       "      <td>NaN</td>\n",
       "    </tr>\n",
       "    <tr>\n",
       "      <th>33</th>\n",
       "      <td>NaN</td>\n",
       "      <td>NaN</td>\n",
       "      <td>-2.446177</td>\n",
       "      <td>2.150728</td>\n",
       "      <td>-0.082668</td>\n",
       "      <td>NaN</td>\n",
       "      <td>NaN</td>\n",
       "    </tr>\n",
       "    <tr>\n",
       "      <th>34</th>\n",
       "      <td>NaN</td>\n",
       "      <td>NaN</td>\n",
       "      <td>-2.109975</td>\n",
       "      <td>-0.460202</td>\n",
       "      <td>-0.170275</td>\n",
       "      <td>NaN</td>\n",
       "      <td>NaN</td>\n",
       "    </tr>\n",
       "  </tbody>\n",
       "</table>\n",
       "</div>"
      ],
      "text/plain": [
       "              Industry                           Company  PC1 (St.)  \\\n",
       "0   Food and Beverages      Daimond  Food Indonesia Tbk.  -2.264703   \n",
       "1   Food and Beverages        Prima Cakrawala Abadi Tbk.  -2.080961   \n",
       "2   Food and Beverages    Akasha Wira International Tbk.  -2.364229   \n",
       "3   Food and Beverages           FKS Food Sejahtera Tbk.  -2.299384   \n",
       "4   Food and Beverages             Tri Banyan Tirta Tbk.  -2.389842   \n",
       "5   Food and Beverages     Bumi Teknokultura Unggul Tbk.  -2.075631   \n",
       "6   Food and Beverages      Budi Starch & Sweetener Tbk.  -2.444029   \n",
       "7   Food and Beverages   Campina Ice Cream Industry Tbk.  -2.232847   \n",
       "8   Food and Beverages      Wilmar Cahaya Indonesia Tbk.  -2.334640   \n",
       "9   Food and Beverages          Sariguna Primatirta Tbk.  -2.184328   \n",
       "10  Food and Beverages   Wahana Interfood Nusantara Tbk.  -2.166310   \n",
       "11  Food and Beverages               Delta Djakarta Tbk.  -2.326131   \n",
       "12  Food and Beverages        Morenzo Abadi Perkasa Tbk.  -2.218451   \n",
       "13  Food and Beverages        Sentra Food Indonesia Tbk.  -2.633101   \n",
       "14  Food and Beverages  Garudafood Putra Putri Jaya Tbk.  -2.198741   \n",
       "15  Food and Beverages        Buyung Poetra Sembada Tbk.  -2.262215   \n",
       "16  Food and Beverages   Indofood CBP Sukses Makmur Tbk.  -2.207588   \n",
       "17  Food and Beverages        Era Mandiri Cemerlang Tbk.  -2.190350   \n",
       "18  Food and Beverages       Indofood Sukses Makmur Tbk.  -1.898572   \n",
       "19  Food and Beverages              Mulia Boga Raya Tbk.  -2.343369   \n",
       "20                 NaN                               NaN  -1.914323   \n",
       "21                 NaN                               NaN  -2.207013   \n",
       "22                 NaN                               NaN  -2.774345   \n",
       "23                 NaN                               NaN  -1.818670   \n",
       "24                 NaN                               NaN  -2.227163   \n",
       "25                 NaN                               NaN  -1.951846   \n",
       "26                 NaN                               NaN  -2.051151   \n",
       "27                 NaN                               NaN  -2.168577   \n",
       "28                 NaN                               NaN  -2.139563   \n",
       "29                 NaN                               NaN  -2.265261   \n",
       "30                 NaN                               NaN  -2.140122   \n",
       "31                 NaN                               NaN  -1.831595   \n",
       "32                 NaN                               NaN  -2.614948   \n",
       "33                 NaN                               NaN  -2.446177   \n",
       "34                 NaN                               NaN  -2.109975   \n",
       "\n",
       "    PC2 (St.)  PC3 (St.) Emitten  Category  \n",
       "0    0.480027  -0.127706    DMND       2.0  \n",
       "1   -0.674134  -0.234609    PCAR       1.0  \n",
       "2   -0.341908   0.044201    ADES       2.0  \n",
       "3   -0.597395   0.091290    AISA       3.0  \n",
       "4    0.646835   0.015738    ALTO       3.0  \n",
       "5    1.489178   0.026968    BTEK       1.0  \n",
       "6    0.047644   0.335470    BUDI       3.0  \n",
       "7    0.223148  -0.088695    CAMP       3.0  \n",
       "8   -1.115328   0.145077    CEKA       2.0  \n",
       "9   -0.469014  -0.253766    CLEO       2.0  \n",
       "10   1.043691  -0.268681    COCO       3.0  \n",
       "11   0.133078   0.093759    DLTA       2.0  \n",
       "12  -0.728676  -0.230911    ENZO       3.0  \n",
       "13  -0.961507   0.180796    FOOD       3.0  \n",
       "14   1.860057  -0.472901    GOOD       2.0  \n",
       "15   2.686284   0.030527    HOKI       2.0  \n",
       "16   1.483609  -0.005344    ICBP       4.0  \n",
       "17   0.488838  -0.044215    IKAN       3.0  \n",
       "18   1.405019  -0.374343    INDF       0.0  \n",
       "19   1.127849   0.132630    KEJU       0.0  \n",
       "20   0.408856  -0.421293     NaN       NaN  \n",
       "21   0.924121   0.159865     NaN       NaN  \n",
       "22   0.458344   0.332179     NaN       NaN  \n",
       "23   0.085559   0.034489     NaN       NaN  \n",
       "24   0.137254   0.117994     NaN       NaN  \n",
       "25  -0.625619  -0.305641     NaN       NaN  \n",
       "26   0.242164   0.086364     NaN       NaN  \n",
       "27   0.527150  -0.206816     NaN       NaN  \n",
       "28   0.313218  -0.271150     NaN       NaN  \n",
       "29  -0.337732   0.068436     NaN       NaN  \n",
       "30  -0.504541  -0.075008     NaN       NaN  \n",
       "31   0.423695  -0.270467     NaN       NaN  \n",
       "32   1.793576   0.047228     NaN       NaN  \n",
       "33   2.150728  -0.082668     NaN       NaN  \n",
       "34  -0.460202  -0.170275     NaN       NaN  "
      ]
     },
     "execution_count": 26,
     "metadata": {},
     "output_type": "execute_result"
    }
   ],
   "source": [
    "dftemp = pd.read_csv('../input/resultfb/resultFB.csv')\n",
    "df2 = pd.read_csv('../input/fandbdataset/DataFB.csv')\n",
    "df2.drop(['DER','Operating Profit Margin','Return on Assets','Sales Growth'], axis=1, inplace=True)\n",
    "df3 = pd.concat([dftemp, new_X, df2], axis=1)\n",
    "df3.head(35)"
   ]
  },
  {
   "cell_type": "code",
   "execution_count": null,
   "id": "597fcf3b",
   "metadata": {
    "papermill": {
     "duration": 0.015417,
     "end_time": "2022-07-01T16:55:51.136817",
     "exception": false,
     "start_time": "2022-07-01T16:55:51.121400",
     "status": "completed"
    },
    "tags": []
   },
   "outputs": [],
   "source": []
  }
 ],
 "metadata": {
  "kernelspec": {
   "display_name": "Python 3",
   "language": "python",
   "name": "python3"
  },
  "language_info": {
   "codemirror_mode": {
    "name": "ipython",
    "version": 3
   },
   "file_extension": ".py",
   "mimetype": "text/x-python",
   "name": "python",
   "nbconvert_exporter": "python",
   "pygments_lexer": "ipython3",
   "version": "3.7.12"
  },
  "papermill": {
   "default_parameters": {},
   "duration": 16.211385,
   "end_time": "2022-07-01T16:55:51.974882",
   "environment_variables": {},
   "exception": null,
   "input_path": "__notebook__.ipynb",
   "output_path": "__notebook__.ipynb",
   "parameters": {},
   "start_time": "2022-07-01T16:55:35.763497",
   "version": "2.3.4"
  }
 },
 "nbformat": 4,
 "nbformat_minor": 5
}
